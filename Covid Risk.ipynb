{
 "cells": [
  {
   "cell_type": "code",
   "execution_count": null,
   "metadata": {},
   "outputs": [],
   "source": [
    "#####COVID RISK#####\n",
    "\n",
    "age = input(\"Are you a cigarette addict older than 75 years old? \").lower().strip() == \"yes\" \n",
    "chronic = input(\"Do you have a severe chronic disease? \").lower().strip() == \"yes\" \n",
    "immune = input(\"Is your immune system too weak? \").lower().strip() == \"yes\"\n",
    "\n",
    "risk = []\n",
    "\n",
    "risk.append(age)\n",
    "risk.append(chronic)\n",
    "risk.append(immune)\n",
    "\n",
    "if age or chronic or immune == True:\n",
    "    print(\"You are in risky group\")\n",
    "else:\n",
    "    print(\"You are not in risky group\")"
   ]
  }
 ],
 "metadata": {
  "kernelspec": {
   "display_name": "Python 3",
   "language": "python",
   "name": "python3"
  },
  "language_info": {
   "codemirror_mode": {
    "name": "ipython",
    "version": 3
   },
   "file_extension": ".py",
   "mimetype": "text/x-python",
   "name": "python",
   "nbconvert_exporter": "python",
   "pygments_lexer": "ipython3",
   "version": "3.8.5"
  }
 },
 "nbformat": 4,
 "nbformat_minor": 4
}
