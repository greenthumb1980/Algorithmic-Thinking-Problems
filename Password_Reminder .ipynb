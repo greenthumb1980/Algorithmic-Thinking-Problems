{
 "cells": [
  {
   "cell_type": "code",
   "execution_count": 2,
   "metadata": {},
   "outputs": [
    {
     "name": "stdout",
     "output_type": "stream",
     "text": [
      "Enter User_name:sElman\n",
      "Hello, Selman! Password: W @ 12\n"
     ]
    }
   ],
   "source": [
    "User_Value = str(input(\"Enter User_name:\").title().strip())\n",
    "\n",
    "while True:\n",
    "    User_Name = \"Selman\"\n",
    "    if User_Name == User_Value:\n",
    "        print(\"Hello, Selman! Password: W @ 12\")\n",
    "        break\n",
    "    elif User_Name != User_Value:\n",
    "        print(f\"Merhaba {User_Value}! See you later\")\n",
    "        break"
   ]
  },
  {
   "cell_type": "code",
   "execution_count": null,
   "metadata": {},
   "outputs": [],
   "source": [
    "#####User Info Access\n",
    "print(\"\"\" \n",
    "************************\n",
    "User Name and Password Access\n",
    "*************************\n",
    "\"\"\")\n",
    "\n",
    "sys_user_name = \"selman\" \n",
    "sys_password = \"12345\"\n",
    "access_limit = 3\n",
    "\n",
    "\n",
    "while True:\n",
    "    user_name = input(\"User Name:\").lower().strip()  \n",
    "    password = input(\"Password:\")\n",
    "\n",
    "    if sys_user_name != user_name and sys_password ==password:\n",
    "        print(\"Wrong username\")\n",
    "        access_limit -=1\n",
    "    elif sys_user_name == user_name and sys_password != password:\n",
    "        print(\"Wrong Password\")\n",
    "        access_limit -=1\n",
    "    elif sys_user_name != user_name and sys_password != password:\n",
    "        print(\"Wrong User Name and Password\")\n",
    "        access_limit -=1\n",
    "    else:\n",
    "        print(\"Access Granted\")\n",
    "        break\n",
    "    if (access_limit == 0):\n",
    "        print(\"Entry limit expired.\")  \n",
    "        break"
   ]
  }
 ],
 "metadata": {
  "kernelspec": {
   "display_name": "Python 3",
   "language": "python",
   "name": "python3"
  },
  "language_info": {
   "codemirror_mode": {
    "name": "ipython",
    "version": 3
   },
   "file_extension": ".py",
   "mimetype": "text/x-python",
   "name": "python",
   "nbconvert_exporter": "python",
   "pygments_lexer": "ipython3",
   "version": "3.8.5"
  }
 },
 "nbformat": 4,
 "nbformat_minor": 4
}
