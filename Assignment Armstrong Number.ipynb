{
 "cells": [
  {
   "cell_type": "code",
   "execution_count": null,
   "metadata": {},
   "outputs": [],
   "source": [
    "sayı = input()\n",
    "toplam = 0\n",
    "\n",
    "while not sayı.isdecimal():\n",
    "    print(\"Yanlış bir giriş yaptınız. Ondalıklı veya negatif değer girmeyiniz!\")\n",
    "    sayı = input()\n",
    "for i in sayı:\n",
    "    toplam += int(i) ** len(sayı)\n",
    "if sayı == str(toplam):\n",
    "    print(\"Bu bir Armstrong Sayısıdır.\")\n",
    "else:\n",
    "    print(\"Bu bir Armstong Sayısı Degildir.\")"
   ]
  }
 ],
 "metadata": {
  "kernelspec": {
   "display_name": "Python 3",
   "language": "python",
   "name": "python3"
  },
  "language_info": {
   "codemirror_mode": {
    "name": "ipython",
    "version": 3
   },
   "file_extension": ".py",
   "mimetype": "text/x-python",
   "name": "python",
   "nbconvert_exporter": "python",
   "pygments_lexer": "ipython3",
   "version": "3.8.5"
  },
  "metadata": {
   "interpreter": {
    "hash": "7812ea015bdcee6f23a998adcdd2ef97c151c0c241b7b7070987d9313e41299d"
   }
  }
 },
 "nbformat": 4,
 "nbformat_minor": 2
}
