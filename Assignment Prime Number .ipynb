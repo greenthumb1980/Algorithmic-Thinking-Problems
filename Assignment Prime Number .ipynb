{
 "cells": [
  {
   "cell_type": "code",
   "execution_count": 21,
   "metadata": {},
   "outputs": [
    {
     "name": "stdout",
     "output_type": "stream",
     "text": [
      "Sayı giriniz: 7\n",
      "7 Asal bir sayıdır.\n"
     ]
    }
   ],
   "source": [
    "sayı = input(\"Sayı giriniz: \")\n",
    "while sayı.isdigit():\n",
    "    sayı = int(sayı)\n",
    "    if sayı > 1:\n",
    "        for i in range(2, sayı):\n",
    "            if (sayı % i) == 0:\n",
    "                print(f\"{sayı} Asal Sayı değildir \")\n",
    "                break\n",
    "        else:\n",
    "            print(sayı, \"Asal bir sayıdır.\")\n",
    "            break\n",
    "    else:\n",
    "        print(sayı, \"Asal Sayı değildir\")\n",
    "    break"
   ]
  }
 ],
 "metadata": {
  "kernelspec": {
   "display_name": "Python 3",
   "language": "python",
   "name": "python3"
  },
  "language_info": {
   "codemirror_mode": {
    "name": "ipython",
    "version": 3
   },
   "file_extension": ".py",
   "mimetype": "text/x-python",
   "name": "python",
   "nbconvert_exporter": "python",
   "pygments_lexer": "ipython3",
   "version": "3.8.5"
  },
  "metadata": {
   "interpreter": {
    "hash": "7812ea015bdcee6f23a998adcdd2ef97c151c0c241b7b7070987d9313e41299d"
   }
  }
 },
 "nbformat": 4,
 "nbformat_minor": 2
}
