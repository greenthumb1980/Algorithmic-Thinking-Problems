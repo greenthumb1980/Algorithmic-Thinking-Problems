{
 "cells": [
  {
   "cell_type": "code",
   "execution_count": 2,
   "metadata": {},
   "outputs": [
    {
     "name": "stdout",
     "output_type": "stream",
     "text": [
      "\n",
      "***********************\n",
      "Welcome To ATM Machine\n",
      "***********************\n",
      "Transactions;\n",
      "\n",
      "1.Balance Inquiry\n",
      "\n",
      "2.Deposit Money\n",
      "\n",
      "3.Withdraw Money\n",
      "\n",
      "Exit from program press \"q\" \n",
      "\n",
      "\n",
      "Select Transaction:1\n",
      "Your Balance is 5000\n",
      "Select Transaction:2\n",
      "Amount of money for deposit:5000\n",
      "Select Transaction:1\n",
      "Your Balance is 10000\n",
      "Select Transaction:3\n",
      "Enter the amount of money withraw from your account:30000\n",
      "Can't withdaraw that much money......\n",
      "Select Transaction:3\n",
      "Enter the amount of money withraw from your account:10000\n",
      "Select Transaction:1\n",
      "Your Balance is 0\n",
      "Select Transaction:q\n",
      "Exited from program\n"
     ]
    }
   ],
   "source": [
    "print(\"\"\"\n",
    "***********************\n",
    "Welcome To ATM Machine\n",
    "***********************\n",
    "Transactions;\n",
    "\n",
    "1.Balance Inquiry\n",
    "\n",
    "2.Deposit Money\n",
    "\n",
    "3.Withdraw Money\n",
    "\n",
    "Exit from program press \"q\" \n",
    "\n",
    "\"\"\")\n",
    "\n",
    "balance = 5000\n",
    "\n",
    "while True:\n",
    "    proccess = input(\"Select Transaction:\")\n",
    "        \n",
    "    if (proccess == \"q\"):\n",
    "        print(\"Exited from program\")\n",
    "        break\n",
    "    elif(proccess == \"1\"):\n",
    "        print(f\"Your Balance is {balance}\")\n",
    "        \n",
    "    elif(proccess == \"2\"):\n",
    "        amount = int(input(\"Amount of money for deposit:\"))\n",
    "        balance +=balance\n",
    "        \n",
    "    elif(proccess == \"3\"):\n",
    "        amount = int(input(\"Enter the amount of money withraw from your account:\"))\n",
    "        if balance - amount < 0:\n",
    "            print(\"Can't withdaraw that much money......\")\n",
    "            continue\n",
    "        balance -=amount        \n",
    "        \n",
    "    else:\n",
    "            print(\"Invalid entry\")"
   ]
  },
  {
   "cell_type": "code",
   "execution_count": null,
   "metadata": {},
   "outputs": [],
   "source": []
  }
 ],
 "metadata": {
  "kernelspec": {
   "display_name": "Python 3",
   "language": "python",
   "name": "python3"
  },
  "language_info": {
   "codemirror_mode": {
    "name": "ipython",
    "version": 3
   },
   "file_extension": ".py",
   "mimetype": "text/x-python",
   "name": "python",
   "nbconvert_exporter": "python",
   "pygments_lexer": "ipython3",
   "version": "3.8.5"
  }
 },
 "nbformat": 4,
 "nbformat_minor": 4
}
